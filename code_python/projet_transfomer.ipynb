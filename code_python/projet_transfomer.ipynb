{
  "cells": [
    {
      "attachments": {},
      "cell_type": "markdown",
      "metadata": {
        "id": "CcRN0X6ErIdd"
      },
      "source": [
        "## 1. Installation des librairies nécessaires"
      ]
    },
    {
      "cell_type": "code",
      "execution_count": null,
      "metadata": {
        "colab": {
          "base_uri": "https://localhost:8080/"
        },
        "id": "nOiT_b0Kie1S",
        "outputId": "a2a72d64-2647-4083-b462-256b13c8927a"
      },
      "outputs": [],
      "source": [
        "! pip install transformers"
      ]
    },
    {
      "cell_type": "code",
      "execution_count": null,
      "metadata": {
        "colab": {
          "base_uri": "https://localhost:8080/"
        },
        "id": "DxMx3WDolLON",
        "outputId": "7e1212f1-b238-4e40-8223-b732b4b50814"
      },
      "outputs": [],
      "source": [
        "! pip install datasets"
      ]
    },
    {
      "cell_type": "code",
      "execution_count": null,
      "metadata": {
        "colab": {
          "base_uri": "https://localhost:8080/"
        },
        "id": "JDDnIa9TTz6F",
        "outputId": "e69ebecc-6ff2-459c-f60e-0fc97ef8be45"
      },
      "outputs": [],
      "source": [
        "! pip install evaluate"
      ]
    },
    {
      "cell_type": "code",
      "execution_count": null,
      "metadata": {
        "id": "ZpuVC6BkiaLz"
      },
      "outputs": [],
      "source": [
        "from transformers import AutoTokenizer, DataCollatorWithPadding, AutoModelForSequenceClassification, TrainingArguments, Trainer\n",
        "from datasets import Features, Value, ClassLabel, Dataset, DatasetDict\n",
        "import evaluate\n",
        "import pandas as pd\n",
        "import numpy as np\n",
        "from sklearn.metrics import accuracy_score, f1_score\n",
        "import torch"
      ]
    },
    {
      "attachments": {},
      "cell_type": "markdown",
      "metadata": {
        "id": "JGZew8OkiI-b"
      },
      "source": [
        "## 2. Récupération et préparation des données"
      ]
    },
    {
      "cell_type": "code",
      "execution_count": null,
      "metadata": {
        "colab": {
          "base_uri": "https://localhost:8080/"
        },
        "id": "eGfyhZ1_h6qE",
        "outputId": "bbda05cc-0c0b-4719-ea17-57a84bf4ea8c"
      },
      "outputs": [],
      "source": [
        "film_df = pd.read_csv(\"allocine_genres_train.csv\", sep=\",\")"
      ]
    },
    {
      "cell_type": "code",
      "execution_count": null,
      "metadata": {
        "id": "XbevtRBGh9cO"
      },
      "outputs": [],
      "source": [
        "# Liste de classes et ajout d'un identifiant numérique pour chaque classe\n",
        "class_names = sorted(film_df.genre.unique())\n",
        "label2id = {class_names[i]:i for i in range(len(class_names))}\n",
        "id2label = {i:class_names[i] for i in range(len(class_names))}"
      ]
    },
    {
      "cell_type": "code",
      "execution_count": null,
      "metadata": {
        "id": "LjChYPfRrBsh"
      },
      "outputs": [],
      "source": [
        "# Paramètres\n",
        "\n",
        "batch_size = 8\n",
        "# Proportion des données qui sera utilisée\n",
        "scale = 0.2"
      ]
    },
    {
      "cell_type": "code",
      "execution_count": null,
      "metadata": {
        "id": "F3rK4POliEL5"
      },
      "outputs": [],
      "source": [
        "data_df = pd.DataFrame()\n",
        "# Le texte décrivant chaque film est composé des colonnes titre et synopsis\n",
        "data_df['text'] = film_df.titre + ' ' + film_df.synopsis\n",
        "# La classe cible est le genre sous forme d'identifiant numérique\n",
        "data_df['label'] = film_df.genre.map(label2id)\n",
        "\n",
        "# Transformation du DataFrame en objet de type Dataset utilisé par HuggingFace\n",
        "province_features = Features({'text': Value('string'), \n",
        "                              'label': ClassLabel(names=class_names)})\n",
        "data = Dataset.from_pandas(data_df, features=province_features)\n",
        "# Découpage en train et test\n",
        "data = data.train_test_split(test_size=0.2, shuffle=True, seed=12)"
      ]
    },
    {
      "attachments": {},
      "cell_type": "markdown",
      "metadata": {
        "id": "szqvBNSfsDSk"
      },
      "source": [
        "## 3. Tokénisation des données\n",
        "\n",
        "Nous allons utiliser xlm-roberta-base (pour le français).\n"
      ]
    },
    {
      "cell_type": "code",
      "execution_count": null,
      "metadata": {
        "id": "5FJciqCVmohf"
      },
      "outputs": [],
      "source": [
        "model_ckpt = \"xlm-roberta-base\"\n",
        "# Chargement du tokéniseur pré-entraîné correspondant au modèle utilisé\n",
        "tokenizer = AutoTokenizer.from_pretrained(model_ckpt)"
      ]
    },
    {
      "cell_type": "code",
      "execution_count": null,
      "metadata": {
        "id": "SOFUysLJm2T1"
      },
      "outputs": [],
      "source": [
        "def preprocess_function(examples):\n",
        "    return tokenizer(examples[\"text\"], padding=True, truncation=True)"
      ]
    },
    {
      "cell_type": "code",
      "execution_count": null,
      "metadata": {
        "colab": {
          "base_uri": "https://localhost:8080/"
        },
        "id": "TvzPMhsmxLlW",
        "outputId": "167028ca-f7af-4c84-a14b-663a640b0ab0"
      },
      "outputs": [],
      "source": [
        "# Tokénisation des 2 premières instances\n",
        "preprocess_function(data['train'][:2])"
      ]
    },
    {
      "cell_type": "code",
      "execution_count": null,
      "metadata": {
        "colab": {
          "base_uri": "https://localhost:8080/",
          "height": 17,
          "referenced_widgets": [
            "5c2be8b66c5d4938bea6baa4b55892f6",
            "472f5aa8b28d48cabee004f61b6e8a03",
            "b61371ee9d854c49b55ded61e68ec842",
            "c92f0b8a12cf462fb39259efa5993777",
            "528839a6ac1d4b3b98fd33e440fba087",
            "d7265a5174d544289d86775a578bf7f4",
            "e0d1e44e11b64cc6801d0b3bd0fe3d2f",
            "124d291e5f3e4a8e97c73ee61947e0a5",
            "baf4094034664e5284fad7f6b6d1f1c9",
            "632acf7098354beb9bf0f0a33d256bc9",
            "f8e0187b61c04f23986f04e0f683fa9d",
            "4d4dc9f4e29943cd878d9dad9f730584",
            "ad012663b2794f66aa68f6de05c7d839",
            "c70f67b477e64f6e9fe6eec3d2616f42",
            "e20320e56b324df1a1efbe54bb15f6b2",
            "aa6dc73e0f55479299ef3319042c0f14",
            "17c10b60078948c1b15c9ab95ed54fd8",
            "14433c7030d048f18f82c5255b9bae9f",
            "93bf2ed1df2d4cd8b4b7993f9326b7b9",
            "d6c699a52e4343ddbc0a46cc924d17e7",
            "c80cdfc99a7c4a4080553e5d0a807b31",
            "374fad87c2254e028a89d2f0ea481ac2"
          ]
        },
        "id": "itrjXWHxUQTd",
        "outputId": "48ad247a-3bf9-4265-b038-74503fdcc4a3"
      },
      "outputs": [],
      "source": [
        "# Tokenisation de la totalité des données : chaque unité est remplacée par un identifiant numérique\n",
        "tokenized_data = data.map(preprocess_function, batched=True, batch_size=None)"
      ]
    },
    {
      "cell_type": "code",
      "execution_count": null,
      "metadata": {
        "id": "_4hFw4kAhUyd"
      },
      "outputs": [],
      "source": [
        "# Affichage des tokens.\n",
        "tokens = tokenizer.convert_ids_to_tokens(tokenized_data['train'][0]['input_ids'])"
      ]
    },
    {
      "attachments": {},
      "cell_type": "markdown",
      "metadata": {
        "id": "cq1sKH480AJH"
      },
      "source": [
        "## 4. Préparation de l'évaluation"
      ]
    },
    {
      "cell_type": "code",
      "execution_count": null,
      "metadata": {
        "id": "aw6bbkwVnX9t"
      },
      "outputs": [],
      "source": [
        "accuracy = evaluate.load(\"accuracy\")"
      ]
    },
    {
      "cell_type": "code",
      "execution_count": null,
      "metadata": {
        "id": "W9KHsFWIneX1"
      },
      "outputs": [],
      "source": [
        "def compute_metrics(eval_pred):\n",
        "    predictions, labels = eval_pred\n",
        "    predictions = np.argmax(predictions, axis=1)\n",
        "    acc = accuracy.compute(predictions=predictions, references=labels)\n",
        "    return acc"
      ]
    },
    {
      "attachments": {},
      "cell_type": "markdown",
      "metadata": {
        "id": "LbGHVSMK0HEG"
      },
      "source": [
        "## 5. Entraînement par affinage\n",
        "\n",
        "On commence par charger le modèle pré-entraîné"
      ]
    },
    {
      "cell_type": "code",
      "execution_count": null,
      "metadata": {
        "colab": {
          "base_uri": "https://localhost:8080/"
        },
        "id": "-vjhGFp5PKl1",
        "outputId": "3d2fe0c2-2544-4a88-d5a9-f557b2599ca3"
      },
      "outputs": [],
      "source": [
        "device = torch.device(\"cuda\" if torch.cuda.is_available() else \"cpu\")\n",
        "model = AutoModelForSequenceClassification.from_pretrained(\n",
        "    model_ckpt, num_labels=len(class_names), id2label=id2label, label2id=label2id\n",
        ").to(device)"
      ]
    },
    {
      "cell_type": "code",
      "execution_count": null,
      "metadata": {
        "id": "yvcqj_DxPV23"
      },
      "outputs": [],
      "source": [
        "\n",
        "training_args = TrainingArguments(\n",
        "    output_dir=f\"{model_ckpt}-finetuned-wine\",\n",
        "    learning_rate=2e-5,\n",
        "    per_device_train_batch_size=batch_size,\n",
        "    per_device_eval_batch_size=batch_size,\n",
        "    num_train_epochs=6,\n",
        "    weight_decay=0.01,\n",
        "    evaluation_strategy=\"epoch\",\n",
        "    save_strategy=\"epoch\",\n",
        "    load_best_model_at_end=True,\n",
        ")"
      ]
    },
    {
      "cell_type": "code",
      "execution_count": null,
      "metadata": {
        "id": "jJ5aXto6PeLN"
      },
      "outputs": [],
      "source": [
        "data_collator = DataCollatorWithPadding(tokenizer=tokenizer)\n",
        "trainer = Trainer(\n",
        "    model=model,\n",
        "    args=training_args,\n",
        "    train_dataset=tokenized_data[\"train\"],\n",
        "    eval_dataset=tokenized_data[\"test\"],\n",
        "    tokenizer=tokenizer,\n",
        "    data_collator=data_collator,\n",
        "    compute_metrics=compute_metrics,\n",
        ")"
      ]
    },
    {
      "cell_type": "code",
      "execution_count": null,
      "metadata": {
        "colab": {
          "base_uri": "https://localhost:8080/",
          "height": 273
        },
        "id": "6SzLipK_TQgW",
        "outputId": "83e84b15-e669-4ff0-b922-7b325d555cd2"
      },
      "outputs": [],
      "source": [
        "trainer.train()"
      ]
    },
    {
      "attachments": {},
      "cell_type": "markdown",
      "metadata": {
        "id": "nzOxIvQs2FtX"
      },
      "source": [
        "## 6. Analyse des résultats"
      ]
    },
    {
      "cell_type": "code",
      "execution_count": null,
      "metadata": {
        "id": "x8QTyropfF3t"
      },
      "outputs": [],
      "source": [
        "# Prédictions pour les données de test\n",
        "preds_output = trainer.predict(tokenized_data['test'])"
      ]
    },
    {
      "cell_type": "code",
      "execution_count": null,
      "metadata": {
        "id": "PYpII9EOj7Mh"
      },
      "outputs": [],
      "source": [
        "preds_output"
      ]
    },
    {
      "cell_type": "code",
      "execution_count": null,
      "metadata": {
        "id": "qB8Yud4YfOMz"
      },
      "outputs": [],
      "source": [
        "preds_output.metrics"
      ]
    },
    {
      "attachments": {},
      "cell_type": "markdown",
      "metadata": {
        "id": "V9VGKl6U2cL1"
      },
      "source": [
        "---\n",
        "Nous allons également afficher la matrice de confusion.\n",
        "\n",
        "\n",
        "\n"
      ]
    },
    {
      "cell_type": "code",
      "execution_count": null,
      "metadata": {
        "id": "SK7EkwKZfS7T"
      },
      "outputs": [],
      "source": [
        "y_preds = np.argmax(preds_output.predictions, axis=1)"
      ]
    },
    {
      "cell_type": "code",
      "execution_count": null,
      "metadata": {
        "id": "kW8oaIAhf-Cg"
      },
      "outputs": [],
      "source": [
        "y_valid = tokenized_data['test']['label']"
      ]
    },
    {
      "cell_type": "code",
      "execution_count": null,
      "metadata": {
        "id": "quQJYO3QgOEa"
      },
      "outputs": [],
      "source": [
        "labels = tokenized_data['test'].features['label'].names"
      ]
    },
    {
      "cell_type": "code",
      "execution_count": null,
      "metadata": {
        "id": "nZLbnHYofdkz"
      },
      "outputs": [],
      "source": [
        "from sklearn.metrics import ConfusionMatrixDisplay, confusion_matrix\n",
        "import matplotlib.pyplot as plt\n",
        "\n",
        "def plot_confusion_matrix(y_preds, y_true, labels):\n",
        "    cm = confusion_matrix(y_true, y_preds, normalize=\"true\")\n",
        "    fig, ax = plt.subplots(figsize=(6, 6))\n",
        "    labels_for_fig = [l[0:4]+'.' for l in labels]\n",
        "    disp = ConfusionMatrixDisplay(confusion_matrix=cm, \n",
        "                                  display_labels=labels_for_fig)\n",
        "    disp.plot(cmap=\"Blues\", values_format=\".2f\", ax=ax, colorbar=False)\n",
        "    plt.title(\"Normalized confusion matrix\")\n",
        "    plt.show()\n",
        "    \n",
        "plot_confusion_matrix(y_preds, y_valid, labels)"
      ]
    },
    {
      "attachments": {},
      "cell_type": "markdown",
      "metadata": {
        "id": "t9v18dYP7NLe"
      },
      "source": [
        "Enfin, nous allons analyser les erreurs de classification. Pour cela, nous allons trier les instances par perte décroissante."
      ]
    },
    {
      "cell_type": "code",
      "execution_count": null,
      "metadata": {
        "id": "hOtjmEp25XNz"
      },
      "outputs": [],
      "source": [
        "from torch.nn.functional import cross_entropy\n",
        "\n",
        "def forward_pass_with_label(batch):\n",
        "    # Fonction qui retourne la perte (entropie croisée) et la classe prédite\n",
        "    inputs = {k:v.to(device) for k,v in batch.items() \n",
        "              if k in tokenizer.model_input_names}\n",
        "\n",
        "    with torch.no_grad():\n",
        "        output = model(**inputs)\n",
        "        pred_label = torch.argmax(output.logits, axis=-1)\n",
        "        loss = cross_entropy(output.logits, batch[\"label\"].to(device), \n",
        "                             reduction=\"none\")\n",
        "    return {\"loss\": loss.cpu().numpy(), \n",
        "            \"predicted_label\": pred_label.cpu().numpy()}"
      ]
    },
    {
      "cell_type": "code",
      "execution_count": null,
      "metadata": {
        "id": "za7_2X-u5fSB"
      },
      "outputs": [],
      "source": [
        "# Conversion des données au bon format\n",
        "tokenized_data.set_format(\"torch\", \n",
        "                            columns=[\"input_ids\", \"attention_mask\", \"label\"])"
      ]
    },
    {
      "cell_type": "code",
      "execution_count": null,
      "metadata": {
        "id": "QHF67whN5q15"
      },
      "outputs": [],
      "source": [
        "# Calcul des valeurs de perte\n",
        "tokenized_data[\"test\"] = tokenized_data[\"test\"].map(\n",
        "    forward_pass_with_label, batched=True, batch_size=64)"
      ]
    },
    {
      "cell_type": "code",
      "execution_count": null,
      "metadata": {
        "id": "7EgrfZSv53oK"
      },
      "outputs": [],
      "source": [
        "# Création d'un DataFrame avec les textes, les pertes les classe (prédites et attendues)\n",
        "\n",
        "def label_int2str(row):\n",
        "    return tokenized_data[\"train\"].features[\"label\"].int2str(row)\n",
        "\n",
        "tokenized_data.set_format(\"pandas\")\n",
        "cols = [\"text\", \"label\", \"predicted_label\", \"loss\"]\n",
        "df_test = tokenized_data[\"test\"][:][cols]\n",
        "df_test[\"label\"] = df_test[\"label\"].apply(label_int2str)\n",
        "df_test[\"predicted_label\"] = (df_test[\"predicted_label\"]\n",
        "                              .apply(label_int2str))"
      ]
    },
    {
      "cell_type": "code",
      "execution_count": null,
      "metadata": {
        "id": "sFUw5MzR6g-e"
      },
      "outputs": [],
      "source": [
        "# Pour éviter l'affichage tronqué des descriptions\n",
        "pd.set_option('display.max_colwidth', -1)\n",
        "# Affichage des 10 premières instances triées par perte décroissante\n",
        "df_test.sort_values(\"loss\", ascending=False).head(10)"
      ]
    },
    {
      "cell_type": "code",
      "execution_count": null,
      "metadata": {
        "id": "5Ua_al9E9Sfx"
      },
      "outputs": [],
      "source": [
        "# Affichage des 10 premières instances triées par perte croissante\n",
        "# Cela permet de voir les instances pour lesquelles les prédictions sont les plus certaines\n",
        "df_test.sort_values(\"loss\", ascending=True).head(10)"
      ]
    },
    {
      "attachments": {},
      "cell_type": "markdown",
      "metadata": {
        "id": "PHaXH5NM17UO"
      },
      "source": [
        "On fait désormais la prédiction sur le fichier test.csv car c'est la méthode qui a la meilleur précision"
      ]
    },
    {
      "cell_type": "code",
      "execution_count": null,
      "metadata": {
        "id": "SxjfzzKVwdNy"
      },
      "outputs": [],
      "source": [
        "film_df = pd.read_csv(\"allocine_genres_test.csv\", sep=\",\")"
      ]
    },
    {
      "cell_type": "code",
      "execution_count": null,
      "metadata": {
        "id": "7gUd6kivzetH"
      },
      "outputs": [],
      "source": [
        "# Liste de classes et ajout d'un identifiant numérique pour chaque classe\n",
        "class_names = sorted(film_df.genre.unique())\n",
        "label2id = {class_names[i]:i for i in range(len(class_names))}\n",
        "id2label = {i:class_names[i] for i in range(len(class_names))}\n",
        "data_df = pd.DataFrame()\n",
        "# Le texte décrivant chaque film est composé des colonnes titre et synopsis\n",
        "data_df['text'] = film_df.titre + ' ' + film_df.synopsis\n",
        "# La classe cible est le genre sous forme d'identifiant numérique\n",
        "\n",
        "# on laisse data_df['label] car cela n'est pas utilisé dans la prédiction du genre et\n",
        "# cela permet de voir la précision de notre prédiction.\n",
        "# Mais normalement, c'est ce qu'on cherche sur ce jeu de données, donc nous ne sommes pas censé\n",
        "# savoir au final la précision sur le jeu (cela permet de voir si l'algo fonctionne même sans validation croisée)\n",
        "# Il est possible de l'enlever, mais il faut faire quelque modification dans la suite du code\n",
        "data_df['label'] = film_df.genre.map(label2id)\n",
        "\n",
        "# Transformation du DataFrame en objet de type Dataset utilisé par HuggingFace\n",
        "province_features = Features({'text': Value('string'), \n",
        "                              'label': ClassLabel(names=class_names)})\n",
        "data = Dataset.from_pandas(data_df, features=province_features)"
      ]
    },
    {
      "attachments": {},
      "cell_type": "markdown",
      "metadata": {},
      "source": [
        "## 7. Prédiction sur le jeu de test"
      ]
    },
    {
      "cell_type": "code",
      "execution_count": null,
      "metadata": {
        "id": "d0ygpJKsz1x2"
      },
      "outputs": [],
      "source": [
        "tokenized_data = data.map(preprocess_function, batched=False, batch_size=None)\n",
        "preds_output = trainer.predict(tokenized_data)\n",
        "preds_output.metrics\n"
      ]
    },
    {
      "cell_type": "code",
      "execution_count": null,
      "metadata": {
        "id": "aqoFAU3K24Pj"
      },
      "outputs": [],
      "source": [
        "y_preds = np.argmax(preds_output.predictions, axis=1)\n",
        "#fonction qui permet de convertir les id des genre predit en leur correspondance en texte.\n",
        "def label_int2str(row):\n",
        "    return tokenized_data.features[\"label\"].int2str(row)"
      ]
    },
    {
      "cell_type": "code",
      "execution_count": null,
      "metadata": {
        "id": "CCP0fMRIqQO5"
      },
      "outputs": [],
      "source": [
        "pred_label = []\n",
        "for row in y_preds:\n",
        "  pred_label.append(label_int2str(int(row)))"
      ]
    },
    {
      "cell_type": "code",
      "execution_count": null,
      "metadata": {
        "id": "TwRgrQNqzgiH"
      },
      "outputs": [],
      "source": [
        "print(pred_label)"
      ]
    },
    {
      "attachments": {},
      "cell_type": "markdown",
      "metadata": {},
      "source": [
        "Création du csv enrichi"
      ]
    },
    {
      "cell_type": "code",
      "execution_count": null,
      "metadata": {
        "id": "l0mBIaFezpvM"
      },
      "outputs": [],
      "source": [
        "# 1. Ajouter une nouvelle colonne à film_df\n",
        "film_new_df = film_df.assign(genre_predit=np.nan)\n",
        "\n",
        "# 2. Copier les valeurs de y_pred dans la colonne nouvellement créée\n",
        "film_new_df['genre_predit'] = pred_label\n",
        "\n",
        "# 3. Enregistrer le DataFrame mis à jour dans un nouveau fichier CSV\n",
        "film_new_df.to_csv('data/allocine_genres_test_enrichi.csv', index=False)"
      ]
    }
  ],
  "metadata": {
    "accelerator": "GPU",
    "colab": {
      "provenance": []
    },
    "gpuClass": "standard",
    "kernelspec": {
      "display_name": "Python 3",
      "name": "python3"
    },
    "language_info": {
      "codemirror_mode": {
        "name": "ipython",
        "version": 3
      },
      "file_extension": ".py",
      "mimetype": "text/x-python",
      "name": "python",
      "nbconvert_exporter": "python",
      "pygments_lexer": "ipython3",
      "version": "3.10.6"
    },
    "widgets": {
      "application/vnd.jupyter.widget-state+json": {
        "124d291e5f3e4a8e97c73ee61947e0a5": {
          "model_module": "@jupyter-widgets/base",
          "model_module_version": "1.2.0",
          "model_name": "LayoutModel",
          "state": {
            "_model_module": "@jupyter-widgets/base",
            "_model_module_version": "1.2.0",
            "_model_name": "LayoutModel",
            "_view_count": null,
            "_view_module": "@jupyter-widgets/base",
            "_view_module_version": "1.2.0",
            "_view_name": "LayoutView",
            "align_content": null,
            "align_items": null,
            "align_self": null,
            "border": null,
            "bottom": null,
            "display": null,
            "flex": null,
            "flex_flow": null,
            "grid_area": null,
            "grid_auto_columns": null,
            "grid_auto_flow": null,
            "grid_auto_rows": null,
            "grid_column": null,
            "grid_gap": null,
            "grid_row": null,
            "grid_template_areas": null,
            "grid_template_columns": null,
            "grid_template_rows": null,
            "height": null,
            "justify_content": null,
            "justify_items": null,
            "left": null,
            "margin": null,
            "max_height": null,
            "max_width": null,
            "min_height": null,
            "min_width": null,
            "object_fit": null,
            "object_position": null,
            "order": null,
            "overflow": null,
            "overflow_x": null,
            "overflow_y": null,
            "padding": null,
            "right": null,
            "top": null,
            "visibility": null,
            "width": null
          }
        },
        "14433c7030d048f18f82c5255b9bae9f": {
          "model_module": "@jupyter-widgets/controls",
          "model_module_version": "1.5.0",
          "model_name": "DescriptionStyleModel",
          "state": {
            "_model_module": "@jupyter-widgets/controls",
            "_model_module_version": "1.5.0",
            "_model_name": "DescriptionStyleModel",
            "_view_count": null,
            "_view_module": "@jupyter-widgets/base",
            "_view_module_version": "1.2.0",
            "_view_name": "StyleView",
            "description_width": ""
          }
        },
        "17c10b60078948c1b15c9ab95ed54fd8": {
          "model_module": "@jupyter-widgets/base",
          "model_module_version": "1.2.0",
          "model_name": "LayoutModel",
          "state": {
            "_model_module": "@jupyter-widgets/base",
            "_model_module_version": "1.2.0",
            "_model_name": "LayoutModel",
            "_view_count": null,
            "_view_module": "@jupyter-widgets/base",
            "_view_module_version": "1.2.0",
            "_view_name": "LayoutView",
            "align_content": null,
            "align_items": null,
            "align_self": null,
            "border": null,
            "bottom": null,
            "display": null,
            "flex": null,
            "flex_flow": null,
            "grid_area": null,
            "grid_auto_columns": null,
            "grid_auto_flow": null,
            "grid_auto_rows": null,
            "grid_column": null,
            "grid_gap": null,
            "grid_row": null,
            "grid_template_areas": null,
            "grid_template_columns": null,
            "grid_template_rows": null,
            "height": null,
            "justify_content": null,
            "justify_items": null,
            "left": null,
            "margin": null,
            "max_height": null,
            "max_width": null,
            "min_height": null,
            "min_width": null,
            "object_fit": null,
            "object_position": null,
            "order": null,
            "overflow": null,
            "overflow_x": null,
            "overflow_y": null,
            "padding": null,
            "right": null,
            "top": null,
            "visibility": null,
            "width": null
          }
        },
        "374fad87c2254e028a89d2f0ea481ac2": {
          "model_module": "@jupyter-widgets/controls",
          "model_module_version": "1.5.0",
          "model_name": "DescriptionStyleModel",
          "state": {
            "_model_module": "@jupyter-widgets/controls",
            "_model_module_version": "1.5.0",
            "_model_name": "DescriptionStyleModel",
            "_view_count": null,
            "_view_module": "@jupyter-widgets/base",
            "_view_module_version": "1.2.0",
            "_view_name": "StyleView",
            "description_width": ""
          }
        },
        "472f5aa8b28d48cabee004f61b6e8a03": {
          "model_module": "@jupyter-widgets/controls",
          "model_module_version": "1.5.0",
          "model_name": "HTMLModel",
          "state": {
            "_dom_classes": [],
            "_model_module": "@jupyter-widgets/controls",
            "_model_module_version": "1.5.0",
            "_model_name": "HTMLModel",
            "_view_count": null,
            "_view_module": "@jupyter-widgets/controls",
            "_view_module_version": "1.5.0",
            "_view_name": "HTMLView",
            "description": "",
            "description_tooltip": null,
            "layout": "IPY_MODEL_d7265a5174d544289d86775a578bf7f4",
            "placeholder": "​",
            "style": "IPY_MODEL_e0d1e44e11b64cc6801d0b3bd0fe3d2f",
            "value": "Map: 100%"
          }
        },
        "4d4dc9f4e29943cd878d9dad9f730584": {
          "model_module": "@jupyter-widgets/controls",
          "model_module_version": "1.5.0",
          "model_name": "HBoxModel",
          "state": {
            "_dom_classes": [],
            "_model_module": "@jupyter-widgets/controls",
            "_model_module_version": "1.5.0",
            "_model_name": "HBoxModel",
            "_view_count": null,
            "_view_module": "@jupyter-widgets/controls",
            "_view_module_version": "1.5.0",
            "_view_name": "HBoxView",
            "box_style": "",
            "children": [
              "IPY_MODEL_ad012663b2794f66aa68f6de05c7d839",
              "IPY_MODEL_c70f67b477e64f6e9fe6eec3d2616f42",
              "IPY_MODEL_e20320e56b324df1a1efbe54bb15f6b2"
            ],
            "layout": "IPY_MODEL_aa6dc73e0f55479299ef3319042c0f14"
          }
        },
        "528839a6ac1d4b3b98fd33e440fba087": {
          "model_module": "@jupyter-widgets/base",
          "model_module_version": "1.2.0",
          "model_name": "LayoutModel",
          "state": {
            "_model_module": "@jupyter-widgets/base",
            "_model_module_version": "1.2.0",
            "_model_name": "LayoutModel",
            "_view_count": null,
            "_view_module": "@jupyter-widgets/base",
            "_view_module_version": "1.2.0",
            "_view_name": "LayoutView",
            "align_content": null,
            "align_items": null,
            "align_self": null,
            "border": null,
            "bottom": null,
            "display": null,
            "flex": null,
            "flex_flow": null,
            "grid_area": null,
            "grid_auto_columns": null,
            "grid_auto_flow": null,
            "grid_auto_rows": null,
            "grid_column": null,
            "grid_gap": null,
            "grid_row": null,
            "grid_template_areas": null,
            "grid_template_columns": null,
            "grid_template_rows": null,
            "height": null,
            "justify_content": null,
            "justify_items": null,
            "left": null,
            "margin": null,
            "max_height": null,
            "max_width": null,
            "min_height": null,
            "min_width": null,
            "object_fit": null,
            "object_position": null,
            "order": null,
            "overflow": null,
            "overflow_x": null,
            "overflow_y": null,
            "padding": null,
            "right": null,
            "top": null,
            "visibility": "hidden",
            "width": null
          }
        },
        "5c2be8b66c5d4938bea6baa4b55892f6": {
          "model_module": "@jupyter-widgets/controls",
          "model_module_version": "1.5.0",
          "model_name": "HBoxModel",
          "state": {
            "_dom_classes": [],
            "_model_module": "@jupyter-widgets/controls",
            "_model_module_version": "1.5.0",
            "_model_name": "HBoxModel",
            "_view_count": null,
            "_view_module": "@jupyter-widgets/controls",
            "_view_module_version": "1.5.0",
            "_view_name": "HBoxView",
            "box_style": "",
            "children": [
              "IPY_MODEL_472f5aa8b28d48cabee004f61b6e8a03",
              "IPY_MODEL_b61371ee9d854c49b55ded61e68ec842",
              "IPY_MODEL_c92f0b8a12cf462fb39259efa5993777"
            ],
            "layout": "IPY_MODEL_528839a6ac1d4b3b98fd33e440fba087"
          }
        },
        "632acf7098354beb9bf0f0a33d256bc9": {
          "model_module": "@jupyter-widgets/base",
          "model_module_version": "1.2.0",
          "model_name": "LayoutModel",
          "state": {
            "_model_module": "@jupyter-widgets/base",
            "_model_module_version": "1.2.0",
            "_model_name": "LayoutModel",
            "_view_count": null,
            "_view_module": "@jupyter-widgets/base",
            "_view_module_version": "1.2.0",
            "_view_name": "LayoutView",
            "align_content": null,
            "align_items": null,
            "align_self": null,
            "border": null,
            "bottom": null,
            "display": null,
            "flex": null,
            "flex_flow": null,
            "grid_area": null,
            "grid_auto_columns": null,
            "grid_auto_flow": null,
            "grid_auto_rows": null,
            "grid_column": null,
            "grid_gap": null,
            "grid_row": null,
            "grid_template_areas": null,
            "grid_template_columns": null,
            "grid_template_rows": null,
            "height": null,
            "justify_content": null,
            "justify_items": null,
            "left": null,
            "margin": null,
            "max_height": null,
            "max_width": null,
            "min_height": null,
            "min_width": null,
            "object_fit": null,
            "object_position": null,
            "order": null,
            "overflow": null,
            "overflow_x": null,
            "overflow_y": null,
            "padding": null,
            "right": null,
            "top": null,
            "visibility": null,
            "width": null
          }
        },
        "93bf2ed1df2d4cd8b4b7993f9326b7b9": {
          "model_module": "@jupyter-widgets/base",
          "model_module_version": "1.2.0",
          "model_name": "LayoutModel",
          "state": {
            "_model_module": "@jupyter-widgets/base",
            "_model_module_version": "1.2.0",
            "_model_name": "LayoutModel",
            "_view_count": null,
            "_view_module": "@jupyter-widgets/base",
            "_view_module_version": "1.2.0",
            "_view_name": "LayoutView",
            "align_content": null,
            "align_items": null,
            "align_self": null,
            "border": null,
            "bottom": null,
            "display": null,
            "flex": null,
            "flex_flow": null,
            "grid_area": null,
            "grid_auto_columns": null,
            "grid_auto_flow": null,
            "grid_auto_rows": null,
            "grid_column": null,
            "grid_gap": null,
            "grid_row": null,
            "grid_template_areas": null,
            "grid_template_columns": null,
            "grid_template_rows": null,
            "height": null,
            "justify_content": null,
            "justify_items": null,
            "left": null,
            "margin": null,
            "max_height": null,
            "max_width": null,
            "min_height": null,
            "min_width": null,
            "object_fit": null,
            "object_position": null,
            "order": null,
            "overflow": null,
            "overflow_x": null,
            "overflow_y": null,
            "padding": null,
            "right": null,
            "top": null,
            "visibility": null,
            "width": null
          }
        },
        "aa6dc73e0f55479299ef3319042c0f14": {
          "model_module": "@jupyter-widgets/base",
          "model_module_version": "1.2.0",
          "model_name": "LayoutModel",
          "state": {
            "_model_module": "@jupyter-widgets/base",
            "_model_module_version": "1.2.0",
            "_model_name": "LayoutModel",
            "_view_count": null,
            "_view_module": "@jupyter-widgets/base",
            "_view_module_version": "1.2.0",
            "_view_name": "LayoutView",
            "align_content": null,
            "align_items": null,
            "align_self": null,
            "border": null,
            "bottom": null,
            "display": null,
            "flex": null,
            "flex_flow": null,
            "grid_area": null,
            "grid_auto_columns": null,
            "grid_auto_flow": null,
            "grid_auto_rows": null,
            "grid_column": null,
            "grid_gap": null,
            "grid_row": null,
            "grid_template_areas": null,
            "grid_template_columns": null,
            "grid_template_rows": null,
            "height": null,
            "justify_content": null,
            "justify_items": null,
            "left": null,
            "margin": null,
            "max_height": null,
            "max_width": null,
            "min_height": null,
            "min_width": null,
            "object_fit": null,
            "object_position": null,
            "order": null,
            "overflow": null,
            "overflow_x": null,
            "overflow_y": null,
            "padding": null,
            "right": null,
            "top": null,
            "visibility": "hidden",
            "width": null
          }
        },
        "ad012663b2794f66aa68f6de05c7d839": {
          "model_module": "@jupyter-widgets/controls",
          "model_module_version": "1.5.0",
          "model_name": "HTMLModel",
          "state": {
            "_dom_classes": [],
            "_model_module": "@jupyter-widgets/controls",
            "_model_module_version": "1.5.0",
            "_model_name": "HTMLModel",
            "_view_count": null,
            "_view_module": "@jupyter-widgets/controls",
            "_view_module_version": "1.5.0",
            "_view_name": "HTMLView",
            "description": "",
            "description_tooltip": null,
            "layout": "IPY_MODEL_17c10b60078948c1b15c9ab95ed54fd8",
            "placeholder": "​",
            "style": "IPY_MODEL_14433c7030d048f18f82c5255b9bae9f",
            "value": "Map: 100%"
          }
        },
        "b61371ee9d854c49b55ded61e68ec842": {
          "model_module": "@jupyter-widgets/controls",
          "model_module_version": "1.5.0",
          "model_name": "FloatProgressModel",
          "state": {
            "_dom_classes": [],
            "_model_module": "@jupyter-widgets/controls",
            "_model_module_version": "1.5.0",
            "_model_name": "FloatProgressModel",
            "_view_count": null,
            "_view_module": "@jupyter-widgets/controls",
            "_view_module_version": "1.5.0",
            "_view_name": "ProgressView",
            "bar_style": "",
            "description": "",
            "description_tooltip": null,
            "layout": "IPY_MODEL_124d291e5f3e4a8e97c73ee61947e0a5",
            "max": 2300,
            "min": 0,
            "orientation": "horizontal",
            "style": "IPY_MODEL_baf4094034664e5284fad7f6b6d1f1c9",
            "value": 2300
          }
        },
        "baf4094034664e5284fad7f6b6d1f1c9": {
          "model_module": "@jupyter-widgets/controls",
          "model_module_version": "1.5.0",
          "model_name": "ProgressStyleModel",
          "state": {
            "_model_module": "@jupyter-widgets/controls",
            "_model_module_version": "1.5.0",
            "_model_name": "ProgressStyleModel",
            "_view_count": null,
            "_view_module": "@jupyter-widgets/base",
            "_view_module_version": "1.2.0",
            "_view_name": "StyleView",
            "bar_color": null,
            "description_width": ""
          }
        },
        "c70f67b477e64f6e9fe6eec3d2616f42": {
          "model_module": "@jupyter-widgets/controls",
          "model_module_version": "1.5.0",
          "model_name": "FloatProgressModel",
          "state": {
            "_dom_classes": [],
            "_model_module": "@jupyter-widgets/controls",
            "_model_module_version": "1.5.0",
            "_model_name": "FloatProgressModel",
            "_view_count": null,
            "_view_module": "@jupyter-widgets/controls",
            "_view_module_version": "1.5.0",
            "_view_name": "ProgressView",
            "bar_style": "",
            "description": "",
            "description_tooltip": null,
            "layout": "IPY_MODEL_93bf2ed1df2d4cd8b4b7993f9326b7b9",
            "max": 575,
            "min": 0,
            "orientation": "horizontal",
            "style": "IPY_MODEL_d6c699a52e4343ddbc0a46cc924d17e7",
            "value": 575
          }
        },
        "c80cdfc99a7c4a4080553e5d0a807b31": {
          "model_module": "@jupyter-widgets/base",
          "model_module_version": "1.2.0",
          "model_name": "LayoutModel",
          "state": {
            "_model_module": "@jupyter-widgets/base",
            "_model_module_version": "1.2.0",
            "_model_name": "LayoutModel",
            "_view_count": null,
            "_view_module": "@jupyter-widgets/base",
            "_view_module_version": "1.2.0",
            "_view_name": "LayoutView",
            "align_content": null,
            "align_items": null,
            "align_self": null,
            "border": null,
            "bottom": null,
            "display": null,
            "flex": null,
            "flex_flow": null,
            "grid_area": null,
            "grid_auto_columns": null,
            "grid_auto_flow": null,
            "grid_auto_rows": null,
            "grid_column": null,
            "grid_gap": null,
            "grid_row": null,
            "grid_template_areas": null,
            "grid_template_columns": null,
            "grid_template_rows": null,
            "height": null,
            "justify_content": null,
            "justify_items": null,
            "left": null,
            "margin": null,
            "max_height": null,
            "max_width": null,
            "min_height": null,
            "min_width": null,
            "object_fit": null,
            "object_position": null,
            "order": null,
            "overflow": null,
            "overflow_x": null,
            "overflow_y": null,
            "padding": null,
            "right": null,
            "top": null,
            "visibility": null,
            "width": null
          }
        },
        "c92f0b8a12cf462fb39259efa5993777": {
          "model_module": "@jupyter-widgets/controls",
          "model_module_version": "1.5.0",
          "model_name": "HTMLModel",
          "state": {
            "_dom_classes": [],
            "_model_module": "@jupyter-widgets/controls",
            "_model_module_version": "1.5.0",
            "_model_name": "HTMLModel",
            "_view_count": null,
            "_view_module": "@jupyter-widgets/controls",
            "_view_module_version": "1.5.0",
            "_view_name": "HTMLView",
            "description": "",
            "description_tooltip": null,
            "layout": "IPY_MODEL_632acf7098354beb9bf0f0a33d256bc9",
            "placeholder": "​",
            "style": "IPY_MODEL_f8e0187b61c04f23986f04e0f683fa9d",
            "value": " 2300/2300 [00:01&lt;00:00, 1934.69 examples/s]"
          }
        },
        "d6c699a52e4343ddbc0a46cc924d17e7": {
          "model_module": "@jupyter-widgets/controls",
          "model_module_version": "1.5.0",
          "model_name": "ProgressStyleModel",
          "state": {
            "_model_module": "@jupyter-widgets/controls",
            "_model_module_version": "1.5.0",
            "_model_name": "ProgressStyleModel",
            "_view_count": null,
            "_view_module": "@jupyter-widgets/base",
            "_view_module_version": "1.2.0",
            "_view_name": "StyleView",
            "bar_color": null,
            "description_width": ""
          }
        },
        "d7265a5174d544289d86775a578bf7f4": {
          "model_module": "@jupyter-widgets/base",
          "model_module_version": "1.2.0",
          "model_name": "LayoutModel",
          "state": {
            "_model_module": "@jupyter-widgets/base",
            "_model_module_version": "1.2.0",
            "_model_name": "LayoutModel",
            "_view_count": null,
            "_view_module": "@jupyter-widgets/base",
            "_view_module_version": "1.2.0",
            "_view_name": "LayoutView",
            "align_content": null,
            "align_items": null,
            "align_self": null,
            "border": null,
            "bottom": null,
            "display": null,
            "flex": null,
            "flex_flow": null,
            "grid_area": null,
            "grid_auto_columns": null,
            "grid_auto_flow": null,
            "grid_auto_rows": null,
            "grid_column": null,
            "grid_gap": null,
            "grid_row": null,
            "grid_template_areas": null,
            "grid_template_columns": null,
            "grid_template_rows": null,
            "height": null,
            "justify_content": null,
            "justify_items": null,
            "left": null,
            "margin": null,
            "max_height": null,
            "max_width": null,
            "min_height": null,
            "min_width": null,
            "object_fit": null,
            "object_position": null,
            "order": null,
            "overflow": null,
            "overflow_x": null,
            "overflow_y": null,
            "padding": null,
            "right": null,
            "top": null,
            "visibility": null,
            "width": null
          }
        },
        "e0d1e44e11b64cc6801d0b3bd0fe3d2f": {
          "model_module": "@jupyter-widgets/controls",
          "model_module_version": "1.5.0",
          "model_name": "DescriptionStyleModel",
          "state": {
            "_model_module": "@jupyter-widgets/controls",
            "_model_module_version": "1.5.0",
            "_model_name": "DescriptionStyleModel",
            "_view_count": null,
            "_view_module": "@jupyter-widgets/base",
            "_view_module_version": "1.2.0",
            "_view_name": "StyleView",
            "description_width": ""
          }
        },
        "e20320e56b324df1a1efbe54bb15f6b2": {
          "model_module": "@jupyter-widgets/controls",
          "model_module_version": "1.5.0",
          "model_name": "HTMLModel",
          "state": {
            "_dom_classes": [],
            "_model_module": "@jupyter-widgets/controls",
            "_model_module_version": "1.5.0",
            "_model_name": "HTMLModel",
            "_view_count": null,
            "_view_module": "@jupyter-widgets/controls",
            "_view_module_version": "1.5.0",
            "_view_name": "HTMLView",
            "description": "",
            "description_tooltip": null,
            "layout": "IPY_MODEL_c80cdfc99a7c4a4080553e5d0a807b31",
            "placeholder": "​",
            "style": "IPY_MODEL_374fad87c2254e028a89d2f0ea481ac2",
            "value": " 575/575 [00:00&lt;00:00, 1710.76 examples/s]"
          }
        },
        "f8e0187b61c04f23986f04e0f683fa9d": {
          "model_module": "@jupyter-widgets/controls",
          "model_module_version": "1.5.0",
          "model_name": "DescriptionStyleModel",
          "state": {
            "_model_module": "@jupyter-widgets/controls",
            "_model_module_version": "1.5.0",
            "_model_name": "DescriptionStyleModel",
            "_view_count": null,
            "_view_module": "@jupyter-widgets/base",
            "_view_module_version": "1.2.0",
            "_view_name": "StyleView",
            "description_width": ""
          }
        }
      }
    }
  },
  "nbformat": 4,
  "nbformat_minor": 0
}
